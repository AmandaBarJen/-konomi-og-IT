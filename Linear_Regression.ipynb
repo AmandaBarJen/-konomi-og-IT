{
  "nbformat": 4,
  "nbformat_minor": 0,
  "metadata": {
    "colab": {
      "provenance": [],
      "include_colab_link": true
    },
    "kernelspec": {
      "name": "python3",
      "display_name": "Python 3"
    },
    "language_info": {
      "name": "python"
    }
  },
  "cells": [
    {
      "cell_type": "markdown",
      "metadata": {
        "id": "view-in-github",
        "colab_type": "text"
      },
      "source": [
        "<a href=\"https://colab.research.google.com/github/AmandaBarJen/Machine-Learning_2025/blob/main/Linear_Regression.ipynb\" target=\"_parent\"><img src=\"https://colab.research.google.com/assets/colab-badge.svg\" alt=\"Open In Colab\"/></a>"
      ]
    },
    {
      "cell_type": "markdown",
      "source": [
        "### Ensure that we use Python 3.7 or above:"
      ],
      "metadata": {
        "id": "cifewyhF9BAO"
      }
    },
    {
      "cell_type": "code",
      "execution_count": 37,
      "metadata": {
        "id": "8KOQTcKX8bg2"
      },
      "outputs": [],
      "source": [
        "import sys\n",
        "\n",
        "assert sys.version_info >= (3, 7)"
      ]
    },
    {
      "cell_type": "markdown",
      "source": [
        "### Ensure that we use at least Scikit-Learn 1.0.1"
      ],
      "metadata": {
        "id": "MdUYfAR79gu8"
      }
    },
    {
      "cell_type": "code",
      "source": [
        "from packaging import version\n",
        "import sklearn\n",
        "\n",
        "assert version.parse(sklearn.__version__) >= version.parse(\"1.0.1\")"
      ],
      "metadata": {
        "id": "cEyMjLcU86Dw"
      },
      "execution_count": 38,
      "outputs": []
    },
    {
      "cell_type": "markdown",
      "source": [
        "### Let us set up the fonts in mathplotlib"
      ],
      "metadata": {
        "id": "y2xAwFNX-Q0D"
      }
    },
    {
      "cell_type": "code",
      "source": [
        "import matplotlib.pyplot as plt\n",
        "\n",
        "plt.rc('font', size=12)\n",
        "plt.rc('axes', labelsize=14, titlesize=14)\n",
        "plt.rc('legend', fontsize=12)\n",
        "plt.rc('xtick', labelsize=10)\n",
        "plt.rc('ytick', labelsize=10)"
      ],
      "metadata": {
        "id": "gwi4DUJV-K1b"
      },
      "execution_count": 39,
      "outputs": []
    },
    {
      "cell_type": "markdown",
      "source": [
        "### Import important libraries 'numpy' and 'pandas'"
      ],
      "metadata": {
        "id": "tvKLkp_dHHwf"
      }
    },
    {
      "cell_type": "code",
      "source": [
        "import numpy as np\n",
        "import pandas as pd"
      ],
      "metadata": {
        "id": "gK4Onnhy-6o8"
      },
      "execution_count": 40,
      "outputs": []
    },
    {
      "cell_type": "markdown",
      "source": [
        "# Make reference to life satifaction data file"
      ],
      "metadata": {
        "id": "zZoc-LzQHYcB"
      }
    },
    {
      "cell_type": "code",
      "source": [
        "datafile = \"https://github.com/ageron/data/raw/main/lifesat/lifesat.csv\"\n",
        "\n",
        "##Try with this one later\n",
        "##datafile = \"https://raw.githubusercontent.com/jpandersen61/Machine-Learning/main/InjuredandkilledintrafikDK.csv\""
      ],
      "metadata": {
        "id": "1EB-X59l_zgg"
      },
      "execution_count": 41,
      "outputs": []
    },
    {
      "cell_type": "markdown",
      "source": [
        "### Excercise(s):"
      ],
      "metadata": {
        "id": "GLUiNLM-HqXJ"
      }
    },
    {
      "cell_type": "markdown",
      "source": [
        "Try viewing this file in your internet browser"
      ],
      "metadata": {
        "id": "Xd2829tIAimY"
      }
    },
    {
      "cell_type": "markdown",
      "source": [
        "### Load the data file"
      ],
      "metadata": {
        "id": "yWx2mhWjIMq4"
      }
    },
    {
      "cell_type": "code",
      "source": [
        "lifesat = pd.read_csv(datafile)\n"
      ],
      "metadata": {
        "id": "9g1ETm1Y_Q2c"
      },
      "execution_count": 42,
      "outputs": []
    },
    {
      "cell_type": "markdown",
      "source": [
        "### Excercise(s)"
      ],
      "metadata": {
        "id": "JBJfOo9HFmhK"
      }
    },
    {
      "cell_type": "markdown",
      "source": [
        "1. Make a new code cell below and evaluate 'lifesat'"
      ],
      "metadata": {
        "id": "IuZ12x0WF6QK"
      }
    },
    {
      "cell_type": "code",
      "source": [
        "print(lifesat)"
      ],
      "metadata": {
        "colab": {
          "base_uri": "https://localhost:8080/"
        },
        "id": "qY5DIx5d69sQ",
        "outputId": "6e36712b-c825-463e-af4a-fcaef1efee7b"
      },
      "execution_count": 43,
      "outputs": [
        {
          "output_type": "stream",
          "name": "stdout",
          "text": [
            "           Country  GDP per capita (USD)  Life satisfaction\n",
            "0           Russia          26456.387938                5.8\n",
            "1           Greece          27287.083401                5.4\n",
            "2           Turkey          28384.987785                5.5\n",
            "3           Latvia          29932.493910                5.9\n",
            "4          Hungary          31007.768407                5.6\n",
            "5         Portugal          32181.154537                5.4\n",
            "6           Poland          32238.157259                6.1\n",
            "7          Estonia          35638.421351                5.7\n",
            "8            Spain          36215.447591                6.3\n",
            "9         Slovenia          36547.738956                5.9\n",
            "10       Lithuania          36732.034744                5.9\n",
            "11          Israel          38341.307570                7.2\n",
            "12           Italy          38992.148381                6.0\n",
            "13  United Kingdom          41627.129269                6.8\n",
            "14          France          42025.617373                6.5\n",
            "15     New Zealand          42404.393738                7.3\n",
            "16          Canada          45856.625626                7.4\n",
            "17         Finland          47260.800458                7.6\n",
            "18         Belgium          48210.033111                6.9\n",
            "19       Australia          48697.837028                7.3\n",
            "20          Sweden          50683.323510                7.3\n",
            "21         Germany          50922.358023                7.0\n",
            "22         Austria          51935.603862                7.1\n",
            "23         Iceland          52279.728851                7.5\n",
            "24     Netherlands          54209.563836                7.4\n",
            "25         Denmark          55938.212809                7.6\n",
            "26   United States          60235.728492                6.9\n"
          ]
        }
      ]
    },
    {
      "cell_type": "markdown",
      "source": [
        "2. Get some information about the kind of data structure, that life satisfaction data is store in. Usefuk to know when using the data afterwards in Python: Make a new code cell below and evaluate 'type(lifesat)'"
      ],
      "metadata": {
        "id": "aDwhNpA3Cyp0"
      }
    },
    {
      "cell_type": "markdown",
      "source": [
        "### Extract the learning set 'X' and its labels 'y'"
      ],
      "metadata": {
        "id": "cj4YKu6oFI3Q"
      }
    },
    {
      "cell_type": "code",
      "source": [
        "X = lifesat[[\"GDP per capita (USD)\"]].values\n",
        "y = lifesat[[\"Life satisfaction\"]].values\n",
        "\n"
      ],
      "metadata": {
        "id": "NtovVwne_pM7"
      },
      "execution_count": 44,
      "outputs": []
    },
    {
      "cell_type": "markdown",
      "source": [
        "### Exercises:"
      ],
      "metadata": {
        "id": "HSYpesjdEwCn"
      }
    },
    {
      "cell_type": "markdown",
      "source": [
        "Make a new code cell below and evaluate 'X'\n",
        "\n",
        "\n",
        "\n"
      ],
      "metadata": {
        "id": "pcR9Ia3VDmWw"
      }
    },
    {
      "cell_type": "code",
      "source": [
        "print(X)"
      ],
      "metadata": {
        "colab": {
          "base_uri": "https://localhost:8080/"
        },
        "id": "2gduCNeD7Eem",
        "outputId": "b84258de-5837-44c2-e88d-3e51f908f050"
      },
      "execution_count": 45,
      "outputs": [
        {
          "output_type": "stream",
          "name": "stdout",
          "text": [
            "[[26456.38793813]\n",
            " [27287.08340093]\n",
            " [28384.98778463]\n",
            " [29932.49391006]\n",
            " [31007.76840654]\n",
            " [32181.15453723]\n",
            " [32238.15725928]\n",
            " [35638.42135118]\n",
            " [36215.44759073]\n",
            " [36547.73895598]\n",
            " [36732.03474403]\n",
            " [38341.30757041]\n",
            " [38992.14838075]\n",
            " [41627.12926943]\n",
            " [42025.61737306]\n",
            " [42404.39373816]\n",
            " [45856.62562648]\n",
            " [47260.80045844]\n",
            " [48210.03311134]\n",
            " [48697.83702825]\n",
            " [50683.32350972]\n",
            " [50922.35802345]\n",
            " [51935.60386182]\n",
            " [52279.72885136]\n",
            " [54209.56383573]\n",
            " [55938.2128086 ]\n",
            " [60235.7284917 ]]\n"
          ]
        }
      ]
    },
    {
      "cell_type": "markdown",
      "source": [
        "Make a new code cell below and evaluate 'y'"
      ],
      "metadata": {
        "id": "vDQPFB9AEMMR"
      }
    },
    {
      "cell_type": "code",
      "source": [
        "print(y)"
      ],
      "metadata": {
        "colab": {
          "base_uri": "https://localhost:8080/"
        },
        "id": "d2Z7Xq-L7IHx",
        "outputId": "e84f21d7-7888-42bd-e911-fc7cbdd3ad20"
      },
      "execution_count": 46,
      "outputs": [
        {
          "output_type": "stream",
          "name": "stdout",
          "text": [
            "[[5.8]\n",
            " [5.4]\n",
            " [5.5]\n",
            " [5.9]\n",
            " [5.6]\n",
            " [5.4]\n",
            " [6.1]\n",
            " [5.7]\n",
            " [6.3]\n",
            " [5.9]\n",
            " [5.9]\n",
            " [7.2]\n",
            " [6. ]\n",
            " [6.8]\n",
            " [6.5]\n",
            " [7.3]\n",
            " [7.4]\n",
            " [7.6]\n",
            " [6.9]\n",
            " [7.3]\n",
            " [7.3]\n",
            " [7. ]\n",
            " [7.1]\n",
            " [7.5]\n",
            " [7.4]\n",
            " [7.6]\n",
            " [6.9]]\n"
          ]
        }
      ]
    },
    {
      "cell_type": "markdown",
      "source": [
        "### Let us plot the life satisfaction data and introduce a model"
      ],
      "metadata": {
        "id": "WGVG7gP1EcIx"
      }
    },
    {
      "cell_type": "code",
      "source": [
        "lifesat.plot(kind='scatter', grid=True,\n",
        "             x=\"GDP per capita (USD)\", y=\"Life satisfaction\")\n",
        "plt.axis([23_500, 62_500, 4, 9])\n",
        "plt.show()"
      ],
      "metadata": {
        "colab": {
          "base_uri": "https://localhost:8080/",
          "height": 460
        },
        "id": "uuQq8nUOERM8",
        "outputId": "a0e03c16-8070-48f8-f08e-a979df4a61fb"
      },
      "execution_count": 47,
      "outputs": [
        {
          "output_type": "display_data",
          "data": {
            "text/plain": [
              "<Figure size 640x480 with 1 Axes>"
            ],
            "image/png": "[encoded data removed]"
          },
          "metadata": {}
        }
      ]
    },
    {
      "cell_type": "markdown",
      "source": [
        "### Excercise(s):"
      ],
      "metadata": {
        "id": "JIXI1IL6JvVm"
      }
    },
    {
      "cell_type": "markdown",
      "source": [
        "Define various 't0' and 't1' (thetas) and observe how it affects our model"
      ],
      "metadata": {
        "id": "EA7d6lEBJ4OK"
      }
    },
    {
      "cell_type": "code",
      "source": [
        "t0, t1 = 5.0, 6.78e-05"
      ],
      "metadata": {
        "id": "SxSC_6nL7nGI"
      },
      "execution_count": 48,
      "outputs": []
    },
    {
      "cell_type": "code",
      "source": [
        "t0, t1 = 3.75, 1.0e-04"
      ],
      "metadata": {
        "id": "XvMRYj5s7rJe"
      },
      "execution_count": 49,
      "outputs": []
    },
    {
      "cell_type": "code",
      "source": [
        "t0, t1 = 2.5, 5.0e-05"
      ],
      "metadata": {
        "id": "dvVlcx3p7to9"
      },
      "execution_count": 50,
      "outputs": []
    },
    {
      "cell_type": "code",
      "source": [
        "t0, t1 = 5.0, 1.0e-04  # Ændrede værdier\n",
        "\n",
        "lifesat.plot(kind='scatter', figsize=(5, 3), grid=True,\n",
        "                   x=\"GDP per capita (USD)\", y=\"Life satisfaction\")\n",
        "\n",
        "X = np.linspace(min_gdp, max_gdp, 1000)\n",
        "plt.plot(X, t0 + t1 * X, \"b\")  # Plot med de nye værdier\n",
        "\n",
        "plt.text(max_gdp - 20_000, min_life_sat + 1.9,\n",
        "         fr\"$\\theta_0 = {t0:.2f}$\", color=\"b\")\n",
        "plt.text(max_gdp - 20_000, min_life_sat + 1.3,\n",
        "         fr\"$\\theta_1 = {t1 * 1e5:.2f} \\times 10^{{-5}}$\", color=\"b\")\n",
        "\n",
        "plt.axis([min_gdp, max_gdp, min_life_sat, max_life_sat])\n",
        "plt.show()"
      ],
      "metadata": {
        "colab": {
          "base_uri": "https://localhost:8080/",
          "height": 321
        },
        "id": "ZOPKDsG-7ywr",
        "outputId": "91b414cb-bafd-45a9-82b7-0e4beecf753c"
      },
      "execution_count": 51,
      "outputs": [
        {
          "output_type": "display_data",
          "data": {
            "text/plain": [
              "<Figure size 500x300 with 1 Axes>"
            ],
            "image/png": "[encoded data removed]"
          },
          "metadata": {}
        }
      ]
    },
    {
      "cell_type": "code",
      "source": [
        "t0, t1 = 3.75, 6.78e-05\n",
        "\n",
        "from sklearn import linear_model\n",
        "min_gdp = 23_500\n",
        "max_gdp = 62_500\n",
        "min_life_sat = 4\n",
        "max_life_sat = 9\n",
        "\n",
        "lifesat.plot(kind='scatter', figsize=(5, 3), grid=True,\n",
        "                   x=\"GDP per capita (USD)\", y=\"Life satisfaction\")\n",
        "\n",
        "X = np.linspace(min_gdp, max_gdp, 1000)\n",
        "plt.plot(X, t0 + t1 * X, \"b\")\n",
        "\n",
        "plt.text(max_gdp - 20_000, min_life_sat + 1.9,\n",
        "         fr\"$\\theta_0 = {t0:.2f}$\", color=\"b\")\n",
        "plt.text(max_gdp - 20_000, min_life_sat + 1.3,\n",
        "         fr\"$\\theta_1 = {t1 * 1e5:.2f} \\times 10^{{-5}}$\", color=\"b\")\n",
        "\n",
        "plt.axis([min_gdp, max_gdp, min_life_sat, max_life_sat])\n",
        "\n",
        "plt.show()"
      ],
      "metadata": {
        "colab": {
          "base_uri": "https://localhost:8080/",
          "height": 321
        },
        "id": "HXN6ixwFIzii",
        "outputId": "16d4d512-f32d-48ca-a8ee-b6913fa9ec34"
      },
      "execution_count": 52,
      "outputs": [
        {
          "output_type": "display_data",
          "data": {
            "text/plain": [
              "<Figure size 500x300 with 1 Axes>"
            ],
            "image/png": "[encoded data removed]"
          },
          "metadata": {}
        }
      ]
    },
    {
      "cell_type": "markdown",
      "source": [
        "### Establish the model"
      ],
      "metadata": {
        "id": "J0iRLACuXH79"
      }
    },
    {
      "cell_type": "code",
      "source": [
        "from sklearn import linear_model\n",
        "\n",
        "X_features = lifesat[[\"GDP per capita (USD)\"]]\n",
        "y_labels = lifesat[[\"Life satisfaction\"]]\n",
        "\n",
        "lin1 = linear_model.LinearRegression()\n",
        "lin1.fit(X_features, y_labels)\n",
        "\n",
        "t0, t1 = lin1.intercept_[0], lin1.coef_[0][0]\n",
        "print(f\"θ0={t0:.2f}, θ1={t1:.2e}\")"
      ],
      "metadata": {
        "colab": {
          "base_uri": "https://localhost:8080/"
        },
        "id": "BylN6risXh1C",
        "outputId": "d976caa8-4ea7-4a71-9ae6-ab37e1309af0"
      },
      "execution_count": 53,
      "outputs": [
        {
          "output_type": "stream",
          "name": "stdout",
          "text": [
            "θ0=3.75, θ1=6.78e-05\n"
          ]
        }
      ]
    },
    {
      "cell_type": "code",
      "source": [
        "X_pred = 40000\n",
        "y_pred = lin1.predict([[X_pred]])[0,0]"
      ],
      "metadata": {
        "colab": {
          "base_uri": "https://localhost:8080/"
        },
        "id": "i7nan8QdT8ZO",
        "outputId": "a214b873-61b3-461a-e8e0-3df0698c7f0f"
      },
      "execution_count": 54,
      "outputs": [
        {
          "output_type": "stream",
          "name": "stderr",
          "text": [
            "/usr/local/lib/python3.10/dist-packages/sklearn/utils/validation.py:2739: UserWarning: X does not have valid feature names, but LinearRegression was fitted with feature names\n",
            "  warnings.warn(\n"
          ]
        }
      ]
    },
    {
      "cell_type": "code",
      "source": [
        "y_pred"
      ],
      "metadata": {
        "colab": {
          "base_uri": "https://localhost:8080/"
        },
        "id": "xgXDykJWUgcU",
        "outputId": "acab4b66-0cc6-4f66-a488-5fa6ebed2c30"
      },
      "execution_count": 55,
      "outputs": [
        {
          "output_type": "execute_result",
          "data": {
            "text/plain": [
              "6.4606093051133975"
            ]
          },
          "metadata": {},
          "execution_count": 55
        }
      ]
    },
    {
      "cell_type": "code",
      "source": [],
      "metadata": {
        "id": "KRCZu6w0Ub-Q"
      },
      "execution_count": 55,
      "outputs": []
    },
    {
      "cell_type": "code",
      "source": [],
      "metadata": {
        "id": "FiR8qLxZUSQ7"
      },
      "execution_count": 55,
      "outputs": []
    },
    {
      "cell_type": "code",
      "source": [
        "from sklearn import linear_model\n",
        "min_gdp = 23_500\n",
        "max_gdp = 62_500\n",
        "min_life_sat = 4\n",
        "max_life_sat = 9\n",
        "\n",
        "lifesat.plot(kind='scatter', figsize=(5, 3), grid=True,\n",
        "                   x=\"GDP per capita (USD)\", y=\"Life satisfaction\")\n",
        "\n",
        "X = np.linspace(min_gdp, max_gdp, 1000)\n",
        "plt.plot(X, t0 + t1 * X, \"b\")\n",
        "\n",
        "plt.text(max_gdp - 20_000, min_life_sat + 1.9,\n",
        "         fr\"$\\theta_0 = {t0:.2f}$\", color=\"b\")\n",
        "plt.text(max_gdp - 20_000, min_life_sat + 1.3,\n",
        "         fr\"$\\theta_1 = {t1 * 1e5:.2f} \\times 10^{{-5}}$\", color=\"b\")\n",
        "\n",
        "plt.axis([min_gdp, max_gdp, min_life_sat, max_life_sat])\n",
        "\n",
        "plt.plot([X_pred, X_pred],\n",
        "         [min_life_sat, y_pred], \"r--\")\n",
        "plt.plot(X_pred, y_pred, \"ro\")\n",
        "\n",
        "plt.show()"
      ],
      "metadata": {
        "colab": {
          "base_uri": "https://localhost:8080/",
          "height": 321
        },
        "id": "J2vqshOxZMXt",
        "outputId": "9c1c0b37-b6a3-4f15-a1d0-b6ac13f32e8a"
      },
      "execution_count": 56,
      "outputs": [
        {
          "output_type": "display_data",
          "data": {
            "text/plain": [
              "<Figure size 500x300 with 1 Axes>"
            ],
            "image/png": "[encoded data removed]"
          },
          "metadata": {}
        }
      ]
    },
    {
      "cell_type": "markdown",
      "source": [
        "### Excercise(s):\n"
      ],
      "metadata": {
        "id": "mrttlJ7yPI7m"
      }
    },
    {
      "cell_type": "markdown",
      "source": [
        "1. Try with another dataset https://raw.githubusercontent.com/jpandersen61/Machine-Learning/main/InjuredandkilledintrafikDK.csv"
      ],
      "metadata": {
        "id": "rvGBeixgPRTH"
      }
    },
    {
      "cell_type": "code",
      "source": [
        "import pandas as pd\n",
        "from sklearn import linear_model\n",
        "\n",
        "# Indlæs data\n",
        "data = {\n",
        "    \"year\": [2001, 2002, 2003, 2004, 2005, 2006, 2007, 2008, 2009, 2010,\n",
        "             2011, 2012, 2013, 2014, 2015, 2016, 2017, 2018, 2019, 2020,\n",
        "             2021, 2022],\n",
        "    \"quantity\": [8896, 9254, 8844, 7915, 6919, 6821, 7062, 6329, 5250, 4408,\n",
        "                 4259, 3778, 3585, 3375, 3334, 3439, 3318, 3458, 3275, 2914,\n",
        "                 2737, 2917]\n",
        "}\n",
        "df = pd.DataFrame(data)\n",
        "\n",
        "# Definer X og y\n",
        "X_features = df[[\"year\"]]\n",
        "y_labels = df[[\"quantity\"]]\n",
        "\n",
        "# Opret og træn modellen\n",
        "lin1 = linear_model.LinearRegression()\n",
        "lin1.fit(X_features, y_labels)\n",
        "\n",
        "# Få koefficienter og intercept\n",
        "t0, t1 = lin1.intercept_[0], lin1.coef_[0][0]\n",
        "print(f\"θ0={t0:.2f}, θ1={t1:.2e}\")"
      ],
      "metadata": {
        "id": "O4NPUCygPYr3",
        "colab": {
          "base_uri": "https://localhost:8080/"
        },
        "outputId": "80f26a0b-0f76-41a8-a23e-8a42fc8529a3"
      },
      "execution_count": 57,
      "outputs": [
        {
          "output_type": "stream",
          "name": "stdout",
          "text": [
            "θ0=651608.68, θ1=-3.21e+02\n"
          ]
        }
      ]
    },
    {
      "cell_type": "markdown",
      "source": [
        "### Questions"
      ],
      "metadata": {
        "id": "xpgWXfOyA23y"
      }
    },
    {
      "cell_type": "markdown",
      "source": [
        "1. How would you define Machine Learning?\n"
      ],
      "metadata": {
        "id": "rOIfHyJcA8C8"
      }
    },
    {
      "cell_type": "code",
      "source": [],
      "metadata": {
        "id": "KdIPuXlM5fu2"
      },
      "execution_count": 57,
      "outputs": []
    },
    {
      "cell_type": "markdown",
      "source": [
        "Write your answer here"
      ],
      "metadata": {
        "id": "bq3i-aI1BH9Q"
      }
    },
    {
      "cell_type": "markdown",
      "source": [
        "2. Can you name four types of problems where it shines?"
      ],
      "metadata": {
        "id": "wMA1G2PPBwpU"
      }
    },
    {
      "cell_type": "markdown",
      "source": [
        "Write your answer here"
      ],
      "metadata": {
        "id": "QAcDslfMBtVj"
      }
    },
    {
      "cell_type": "markdown",
      "source": [
        "3. What is a labeled training set?"
      ],
      "metadata": {
        "id": "i0M6EMx8B71g"
      }
    },
    {
      "cell_type": "markdown",
      "source": [
        "Write your answer here"
      ],
      "metadata": {
        "id": "fipL2K_FBtin"
      }
    },
    {
      "cell_type": "markdown",
      "source": [
        "4. What are the two most common supervised tasks?"
      ],
      "metadata": {
        "id": "43FAK9O-CE8K"
      }
    },
    {
      "cell_type": "markdown",
      "source": [
        "Write your answer here"
      ],
      "metadata": {
        "id": "JjakH8_HBtmV"
      }
    },
    {
      "cell_type": "markdown",
      "source": [
        "5. Can you name four common unsupervised tasks?"
      ],
      "metadata": {
        "id": "6_5YsjSzCJes"
      }
    },
    {
      "cell_type": "markdown",
      "source": [
        "Write your answer here"
      ],
      "metadata": {
        "id": "aPFI1nvxBtp4"
      }
    },
    {
      "cell_type": "markdown",
      "source": [
        "6. What type of Machine Learning algorithm would you use to allow\n",
        "a robot to walk in various unknown terrains?\n"
      ],
      "metadata": {
        "id": "DwIRcR9YCNb5"
      }
    },
    {
      "cell_type": "markdown",
      "source": [
        "Write your answer here"
      ],
      "metadata": {
        "id": "E8SE6UvrBtuJ"
      }
    },
    {
      "cell_type": "markdown",
      "source": [
        "7. What type of algorithm would you use to segment your customers\n",
        "into multiple groups?"
      ],
      "metadata": {
        "id": "ZflRQBbbCRwX"
      }
    },
    {
      "cell_type": "markdown",
      "source": [
        "Write your answer here"
      ],
      "metadata": {
        "id": "7QcbHPkBBtwI"
      }
    },
    {
      "cell_type": "markdown",
      "source": [
        "8. Would you frame the problem of spam detection as a supervised\n",
        "learning problem or an unsupervised learning problem?"
      ],
      "metadata": {
        "id": "X0fKgGXsLq6o"
      }
    },
    {
      "cell_type": "markdown",
      "source": [
        "Write your answer here"
      ],
      "metadata": {
        "id": "nLnPVahlBty_"
      }
    },
    {
      "cell_type": "markdown",
      "source": [
        "9. What is an online learning system?\n"
      ],
      "metadata": {
        "id": "n7CHmnsdCeY3"
      }
    },
    {
      "cell_type": "markdown",
      "source": [
        "Write your answer here"
      ],
      "metadata": {
        "id": "0YRkRS_7Bt2I"
      }
    },
    {
      "cell_type": "markdown",
      "source": [
        "10. What is out-of-core learning?"
      ],
      "metadata": {
        "id": "UKkgQ_veCsN_"
      }
    },
    {
      "cell_type": "markdown",
      "source": [
        "Write your answer here"
      ],
      "metadata": {
        "id": "0raVrt27Bt5U"
      }
    },
    {
      "cell_type": "markdown",
      "source": [
        "11. What type of learning algorithm relies on a similarity measure to\n",
        "make predictions?"
      ],
      "metadata": {
        "id": "alMcqdhaCt8m"
      }
    },
    {
      "cell_type": "markdown",
      "source": [
        "Write your answer here"
      ],
      "metadata": {
        "id": "NzHnn7Q5Bt8C"
      }
    },
    {
      "cell_type": "markdown",
      "source": [
        "12. What is the difference between a model parameter and a learning\n",
        "algorithm’s hyperparameter?"
      ],
      "metadata": {
        "id": "lpvdcsj2CznS"
      }
    },
    {
      "cell_type": "markdown",
      "source": [
        "Write your answer here"
      ],
      "metadata": {
        "id": "22JFh-dABt_J"
      }
    },
    {
      "cell_type": "markdown",
      "source": [
        "13. What do model-based learning algorithms search for? What is the\n",
        "most common strategy they use to succeed? How do they make\n",
        "predictions?"
      ],
      "metadata": {
        "id": "fwVjj-WkC4U5"
      }
    },
    {
      "cell_type": "markdown",
      "source": [
        "Write your answer here"
      ],
      "metadata": {
        "id": "c8Q85u6RBuCH"
      }
    },
    {
      "cell_type": "markdown",
      "source": [
        "14. Can you name four of the main challenges in Machine Learning?"
      ],
      "metadata": {
        "id": "wkKbPfjODAj-"
      }
    },
    {
      "cell_type": "markdown",
      "source": [
        "Write your answer here"
      ],
      "metadata": {
        "id": "HznUcxBmBuFH"
      }
    }
  ]
}